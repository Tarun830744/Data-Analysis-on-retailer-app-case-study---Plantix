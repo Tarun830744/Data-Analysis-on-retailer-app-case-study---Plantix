{
 "cells": [
  {
   "cell_type": "code",
   "execution_count": 74,
   "id": "194552e3",
   "metadata": {},
   "outputs": [],
   "source": [
    "import pandas as pd\n",
    "import numpy as np\n",
    "import sqlalchemy\n",
    "import matplotlib.pyplot as plt"
   ]
  },
  {
   "cell_type": "code",
   "execution_count": 2,
   "id": "214d7f58",
   "metadata": {},
   "outputs": [],
   "source": [
    "login = pd.read_csv('login_logs.csv')"
   ]
  },
  {
   "cell_type": "code",
   "execution_count": 3,
   "id": "a122b7cf",
   "metadata": {},
   "outputs": [
    {
     "data": {
      "text/html": [
       "<div>\n",
       "<style scoped>\n",
       "    .dataframe tbody tr th:only-of-type {\n",
       "        vertical-align: middle;\n",
       "    }\n",
       "\n",
       "    .dataframe tbody tr th {\n",
       "        vertical-align: top;\n",
       "    }\n",
       "\n",
       "    .dataframe thead th {\n",
       "        text-align: right;\n",
       "    }\n",
       "</style>\n",
       "<table border=\"1\" class=\"dataframe\">\n",
       "  <thead>\n",
       "    <tr style=\"text-align: right;\">\n",
       "      <th></th>\n",
       "      <th>login_log_id</th>\n",
       "      <th>user_id</th>\n",
       "      <th>login_time</th>\n",
       "    </tr>\n",
       "  </thead>\n",
       "  <tbody>\n",
       "    <tr>\n",
       "      <th>0</th>\n",
       "      <td>1385328</td>\n",
       "      <td>99160</td>\n",
       "      <td>2021-07-01 00:00:33.0</td>\n",
       "    </tr>\n",
       "    <tr>\n",
       "      <th>1</th>\n",
       "      <td>1385329</td>\n",
       "      <td>83272</td>\n",
       "      <td>2021-07-01 00:00:38.0</td>\n",
       "    </tr>\n",
       "    <tr>\n",
       "      <th>2</th>\n",
       "      <td>1385330</td>\n",
       "      <td>83272</td>\n",
       "      <td>2021-07-01 00:00:42.0</td>\n",
       "    </tr>\n",
       "    <tr>\n",
       "      <th>3</th>\n",
       "      <td>1385331</td>\n",
       "      <td>96640</td>\n",
       "      <td>2021-07-01 00:02:08.0</td>\n",
       "    </tr>\n",
       "    <tr>\n",
       "      <th>4</th>\n",
       "      <td>1385332</td>\n",
       "      <td>99160</td>\n",
       "      <td>2021-07-01 00:02:38.0</td>\n",
       "    </tr>\n",
       "  </tbody>\n",
       "</table>\n",
       "</div>"
      ],
      "text/plain": [
       "   login_log_id  user_id             login_time\n",
       "0       1385328    99160  2021-07-01 00:00:33.0\n",
       "1       1385329    83272  2021-07-01 00:00:38.0\n",
       "2       1385330    83272  2021-07-01 00:00:42.0\n",
       "3       1385331    96640  2021-07-01 00:02:08.0\n",
       "4       1385332    99160  2021-07-01 00:02:38.0"
      ]
     },
     "execution_count": 3,
     "metadata": {},
     "output_type": "execute_result"
    }
   ],
   "source": [
    "login.head()"
   ]
  },
  {
   "cell_type": "code",
   "execution_count": 4,
   "id": "8bab1a61",
   "metadata": {},
   "outputs": [],
   "source": [
    "sales_order = pd.read_csv('sales_orders.csv')"
   ]
  },
  {
   "cell_type": "code",
   "execution_count": 5,
   "id": "7a25931b",
   "metadata": {},
   "outputs": [
    {
     "data": {
      "text/html": [
       "<div>\n",
       "<style scoped>\n",
       "    .dataframe tbody tr th:only-of-type {\n",
       "        vertical-align: middle;\n",
       "    }\n",
       "\n",
       "    .dataframe tbody tr th {\n",
       "        vertical-align: top;\n",
       "    }\n",
       "\n",
       "    .dataframe thead th {\n",
       "        text-align: right;\n",
       "    }\n",
       "</style>\n",
       "<table border=\"1\" class=\"dataframe\">\n",
       "  <thead>\n",
       "    <tr style=\"text-align: right;\">\n",
       "      <th></th>\n",
       "      <th>order_id</th>\n",
       "      <th>fk_buyer_id</th>\n",
       "      <th>fk_depot_id</th>\n",
       "      <th>sales_order_status</th>\n",
       "      <th>creation_time</th>\n",
       "    </tr>\n",
       "  </thead>\n",
       "  <tbody>\n",
       "    <tr>\n",
       "      <th>0</th>\n",
       "      <td>119874</td>\n",
       "      <td>82228</td>\n",
       "      <td>5</td>\n",
       "      <td>Rejected</td>\n",
       "      <td>2021-07-01 00:35:28.0</td>\n",
       "    </tr>\n",
       "    <tr>\n",
       "      <th>1</th>\n",
       "      <td>119877</td>\n",
       "      <td>40476</td>\n",
       "      <td>1</td>\n",
       "      <td>Rejected</td>\n",
       "      <td>2021-07-01 02:02:43.0</td>\n",
       "    </tr>\n",
       "    <tr>\n",
       "      <th>2</th>\n",
       "      <td>119880</td>\n",
       "      <td>41728</td>\n",
       "      <td>8</td>\n",
       "      <td>Shipped</td>\n",
       "      <td>2021-07-01 02:42:12.0</td>\n",
       "    </tr>\n",
       "    <tr>\n",
       "      <th>3</th>\n",
       "      <td>119883</td>\n",
       "      <td>97616</td>\n",
       "      <td>4</td>\n",
       "      <td>Rejected</td>\n",
       "      <td>2021-07-01 02:56:00.0</td>\n",
       "    </tr>\n",
       "    <tr>\n",
       "      <th>4</th>\n",
       "      <td>119886</td>\n",
       "      <td>12440</td>\n",
       "      <td>1</td>\n",
       "      <td>Rejected</td>\n",
       "      <td>2021-07-01 03:11:31.0</td>\n",
       "    </tr>\n",
       "  </tbody>\n",
       "</table>\n",
       "</div>"
      ],
      "text/plain": [
       "   order_id  fk_buyer_id  fk_depot_id sales_order_status  \\\n",
       "0    119874        82228            5           Rejected   \n",
       "1    119877        40476            1           Rejected   \n",
       "2    119880        41728            8            Shipped   \n",
       "3    119883        97616            4           Rejected   \n",
       "4    119886        12440            1           Rejected   \n",
       "\n",
       "           creation_time  \n",
       "0  2021-07-01 00:35:28.0  \n",
       "1  2021-07-01 02:02:43.0  \n",
       "2  2021-07-01 02:42:12.0  \n",
       "3  2021-07-01 02:56:00.0  \n",
       "4  2021-07-01 03:11:31.0  "
      ]
     },
     "execution_count": 5,
     "metadata": {},
     "output_type": "execute_result"
    }
   ],
   "source": [
    "sales_order.head()"
   ]
  },
  {
   "cell_type": "code",
   "execution_count": 6,
   "id": "c5f4f0b7",
   "metadata": {},
   "outputs": [],
   "source": [
    "sales_orders_items = pd.read_csv('sales_orders_items.csv')"
   ]
  },
  {
   "cell_type": "code",
   "execution_count": 7,
   "id": "108c08f9",
   "metadata": {},
   "outputs": [
    {
     "data": {
      "text/html": [
       "<div>\n",
       "<style scoped>\n",
       "    .dataframe tbody tr th:only-of-type {\n",
       "        vertical-align: middle;\n",
       "    }\n",
       "\n",
       "    .dataframe tbody tr th {\n",
       "        vertical-align: top;\n",
       "    }\n",
       "\n",
       "    .dataframe thead th {\n",
       "        text-align: right;\n",
       "    }\n",
       "</style>\n",
       "<table border=\"1\" class=\"dataframe\">\n",
       "  <thead>\n",
       "    <tr style=\"text-align: right;\">\n",
       "      <th></th>\n",
       "      <th>order_item_id</th>\n",
       "      <th>fk_product_id</th>\n",
       "      <th>fk_order_id</th>\n",
       "      <th>ordered_quantity</th>\n",
       "      <th>order_quantity_accepted</th>\n",
       "      <th>rate</th>\n",
       "    </tr>\n",
       "  </thead>\n",
       "  <tbody>\n",
       "    <tr>\n",
       "      <th>0</th>\n",
       "      <td>62609</td>\n",
       "      <td>7818</td>\n",
       "      <td>119874</td>\n",
       "      <td>1</td>\n",
       "      <td>0</td>\n",
       "      <td>4993.00</td>\n",
       "    </tr>\n",
       "    <tr>\n",
       "      <th>1</th>\n",
       "      <td>62610</td>\n",
       "      <td>7607</td>\n",
       "      <td>119877</td>\n",
       "      <td>1</td>\n",
       "      <td>0</td>\n",
       "      <td>6203.40</td>\n",
       "    </tr>\n",
       "    <tr>\n",
       "      <th>2</th>\n",
       "      <td>62611</td>\n",
       "      <td>9916</td>\n",
       "      <td>119880</td>\n",
       "      <td>2</td>\n",
       "      <td>2</td>\n",
       "      <td>2904.41</td>\n",
       "    </tr>\n",
       "    <tr>\n",
       "      <th>3</th>\n",
       "      <td>62612</td>\n",
       "      <td>11118</td>\n",
       "      <td>119880</td>\n",
       "      <td>2</td>\n",
       "      <td>2</td>\n",
       "      <td>2205.00</td>\n",
       "    </tr>\n",
       "    <tr>\n",
       "      <th>4</th>\n",
       "      <td>62613</td>\n",
       "      <td>12702</td>\n",
       "      <td>119880</td>\n",
       "      <td>2</td>\n",
       "      <td>2</td>\n",
       "      <td>2200.85</td>\n",
       "    </tr>\n",
       "  </tbody>\n",
       "</table>\n",
       "</div>"
      ],
      "text/plain": [
       "   order_item_id  fk_product_id  fk_order_id  ordered_quantity  \\\n",
       "0          62609           7818       119874                 1   \n",
       "1          62610           7607       119877                 1   \n",
       "2          62611           9916       119880                 2   \n",
       "3          62612          11118       119880                 2   \n",
       "4          62613          12702       119880                 2   \n",
       "\n",
       "   order_quantity_accepted     rate  \n",
       "0                        0  4993.00  \n",
       "1                        0  6203.40  \n",
       "2                        2  2904.41  \n",
       "3                        2  2205.00  \n",
       "4                        2  2200.85  "
      ]
     },
     "execution_count": 7,
     "metadata": {},
     "output_type": "execute_result"
    }
   ],
   "source": [
    "sales_orders_items.head()"
   ]
  },
  {
   "cell_type": "code",
   "execution_count": 8,
   "id": "f3eed9b7",
   "metadata": {},
   "outputs": [],
   "source": [
    "engine = sqlalchemy.create_engine('sqlite://', echo=False)"
   ]
  },
  {
   "cell_type": "code",
   "execution_count": 9,
   "id": "a7ed1071",
   "metadata": {},
   "outputs": [
    {
     "data": {
      "text/plain": [
       "666357"
      ]
     },
     "execution_count": 9,
     "metadata": {},
     "output_type": "execute_result"
    }
   ],
   "source": [
    "login.to_sql(\"login_table\" ,con = engine)"
   ]
  },
  {
   "cell_type": "code",
   "execution_count": 10,
   "id": "8b3bb903",
   "metadata": {},
   "outputs": [
    {
     "data": {
      "text/plain": [
       "13630"
      ]
     },
     "execution_count": 10,
     "metadata": {},
     "output_type": "execute_result"
    }
   ],
   "source": [
    "sales_order.to_sql(\"sales_order\" ,con = engine)"
   ]
  },
  {
   "cell_type": "code",
   "execution_count": 11,
   "id": "e581583f",
   "metadata": {},
   "outputs": [
    {
     "data": {
      "text/plain": [
       "20488"
      ]
     },
     "execution_count": 11,
     "metadata": {},
     "output_type": "execute_result"
    }
   ],
   "source": [
    "sales_orders_items.to_sql('sales_orders_items',con = engine)"
   ]
  },
  {
   "cell_type": "markdown",
   "id": "fe66b82a",
   "metadata": {},
   "source": [
    "##  1. Which KPIs would you use to measure the performance of our app?"
   ]
  },
  {
   "cell_type": "code",
   "execution_count": 42,
   "id": "6de0d2bd",
   "metadata": {},
   "outputs": [
    {
     "data": {
      "image/png": "[encoded data removed]",
      "text/plain": [
       "<Figure size 360x360 with 1 Axes>"
      ]
     },
     "metadata": {
      "needs_background": "light"
     },
     "output_type": "display_data"
    }
   ],
   "source": [
    "query1 = \"\"\"select count(distinct(user_id)) user, \n",
    "          strftime('%Y',login_time) \n",
    "          from login_table group by strftime('%Y',login_time) \"\"\"\n",
    "l1 = engine.execute(query1).fetchall()\n",
    "year=[]\n",
    "values=[]\n",
    "for i in range(len(l1)):\n",
    "    year.append(l1[i][1])\n",
    "    values.append(l1[i][0])\n",
    "    \n",
    "def percentage(l):\n",
    "    total = l[0][0]+l[1][0]\n",
    "    per = ((l[1][0]-l[0][0])/total)*100\n",
    "    return round(per,2)\n",
    "\n",
    "def addlabels(x,y):\n",
    "    for i in range(len(x)):\n",
    "        plt.text(i, y[i], y[i], ha = 'center')\n",
    "        \n",
    "fig = plt.figure(figsize = (5, 5))\n",
    "plt.bar(year, values, color ='blue',\n",
    "        width = 0.5,)\n",
    "addlabels(year, values)\n",
    " \n",
    "plt.xlabel(\"year\")\n",
    "plt.ylabel(\"No of user\")\n",
    "plt.suptitle(\"User by year\",fontsize = 'large')\n",
    "plt.title(\"User increased by {} in 2022\".format(percentage(l1)),fontsize = 'medium')\n",
    "plt.axis()\n",
    "plt.show()"
   ]
  },
  {
   "cell_type": "code",
   "execution_count": 25,
   "id": "7a0b9455",
   "metadata": {},
   "outputs": [
    {
     "data": {
      "image/png": "[encoded data removed]",
      "text/plain": [
       "<Figure size 720x504 with 1 Axes>"
      ]
     },
     "metadata": {
      "needs_background": "light"
     },
     "output_type": "display_data"
    }
   ],
   "source": [
    "query2 = \"\"\"select count(login_time)/count(distinct(date(login_time))) count1, \n",
    "            case cast (strftime('%w', login_time) as integer)\n",
    "              when 0 then 'Sunday'\n",
    "              when 1 then 'Monday'\n",
    "              when 2 then 'Tuesday'\n",
    "              when 3 then 'Wednesday'\n",
    "              when 4 then 'Thursday'\n",
    "              when 5 then 'Friday'\n",
    "              else 'Saturday' end \n",
    "              from login_table group by strftime('%w',login_time) \"\"\"\n",
    "\n",
    "l2 = engine.execute(query2).fetchall()\n",
    "days=[]\n",
    "values=[]\n",
    "for i in range(len(l2)):\n",
    "    days.append(l2[i][1])\n",
    "    values.append(l2[i][0])\n",
    "\n",
    "def addlabels(x,y):\n",
    "    for i in range(len(x)):\n",
    "        plt.text(i, y[i], y[i], ha = 'center')\n",
    "        \n",
    "fig = plt.figure(figsize = (10, 7))\n",
    "plt.bar(days, values, color ='maroon',\n",
    "        width = 0.5,)\n",
    "addlabels(days, values)\n",
    " \n",
    "plt.xlabel(\"Days\")\n",
    "plt.ylabel(\"Average App Visit\")\n",
    "plt.title(\"Average App Visit by Days\")\n",
    "plt.show()"
   ]
  },
  {
   "cell_type": "code",
   "execution_count": 34,
   "id": "576a9e23",
   "metadata": {},
   "outputs": [
    {
     "data": {
      "image/png": "[encoded data removed]",
      "text/plain": [
       "<Figure size 360x360 with 1 Axes>"
      ]
     },
     "metadata": {
      "needs_background": "light"
     },
     "output_type": "display_data"
    }
   ],
   "source": [
    "query3 = \"\"\"select round(sum(case when so.sales_order_status = 'Shipped' then si.order_quantity_accepted*si.rate end),2), \n",
    "            strftime('%Y',so.creation_time) \n",
    "            from sales_orders_items si \n",
    "            inner join sales_order so \n",
    "            on so.order_id=si.fk_order_id \n",
    "            group by strftime('%Y',so.creation_time) \"\"\"\n",
    "\n",
    "l3 = engine.execute(query3).fetchall()\n",
    "days=[]\n",
    "values=[]\n",
    "for i in range(len(l3)):\n",
    "    days.append(l3[i][1])\n",
    "    values.append(l3[i][0])\n",
    "\n",
    "def percentage(l):\n",
    "    total = l[0][0]+l[1][0]\n",
    "    per = ((l[1][0]-l[0][0])/total)*100\n",
    "    return round(per,2)\n",
    "\n",
    "def addlabels(x,y):\n",
    "    for i in range(len(x)):\n",
    "        plt.text(i, y[i], y[i], ha = 'center')\n",
    "        \n",
    "fig = plt.figure(figsize = (5, 5))\n",
    "plt.bar(days, values, color ='green',\n",
    "        width = 0.5,)\n",
    "addlabels(days, values)\n",
    " \n",
    "plt.xlabel(\"year\")\n",
    "plt.ylabel(\"Sales\")\n",
    "plt.suptitle(\"Total Sales by year that are shipped\")\n",
    "plt.title(\"User increased by {} in 2022\".format(percentage(l3)),fontsize = 'medium')\n",
    "plt.show()"
   ]
  },
  {
   "cell_type": "markdown",
   "id": "d966d8f2",
   "metadata": {},
   "source": [
    "## 2. Prepare a report regarding our growth between the 2 years. Please try to answer the following questions:"
   ]
  },
  {
   "cell_type": "markdown",
   "id": "dde2ccd1",
   "metadata": {},
   "source": [
    "###  a. Did our business grow?"
   ]
  },
  {
   "cell_type": "code",
   "execution_count": 45,
   "id": "4033c102",
   "metadata": {},
   "outputs": [
    {
     "data": {
      "image/png": "[encoded data removed]",
      "text/plain": [
       "<Figure size 360x360 with 1 Axes>"
      ]
     },
     "metadata": {
      "needs_background": "light"
     },
     "output_type": "display_data"
    }
   ],
   "source": [
    "query4 = \"\"\"select count(*) sales, \n",
    "          strftime('%Y',creation_time) \n",
    "          from sales_order group by strftime('%Y',creation_time) \"\"\"\n",
    "\n",
    "l4 = engine.execute(query4).fetchall()\n",
    "year=[]\n",
    "values=[]\n",
    "for i in range(len(l4)):\n",
    "    year.append(l4[i][1])\n",
    "    values.append(l4[i][0])\n",
    "    \n",
    "def percentage(l):\n",
    "    total = l[0][0]+l[1][0]\n",
    "    per = ((l[1][0]-l[0][0])/total)*100\n",
    "    return round(per,2)\n",
    "\n",
    "def addlabels(x,y):\n",
    "    for i in range(len(x)):\n",
    "        plt.text(i, y[i], y[i], ha = 'center')\n",
    "        \n",
    "fig = plt.figure(figsize = (5, 5))\n",
    "plt.bar(year, values, color ='violet',\n",
    "        width = 0.5,)\n",
    "addlabels(year, values)\n",
    " \n",
    "plt.xlabel(\"year\")\n",
    "plt.ylabel(\"sales orders\")\n",
    "plt.suptitle(\"Sales order by year\",fontsize = 'large')\n",
    "plt.title(\"sales order increased by {} in 2022\".format(percentage(l4)),fontsize = 'medium')\n",
    "plt.axis()\n",
    "plt.show()"
   ]
  },
  {
   "cell_type": "markdown",
   "id": "ec5c30c8",
   "metadata": {},
   "source": [
    "### b. Does our app perform better now?"
   ]
  },
  {
   "cell_type": "code",
   "execution_count": 143,
   "id": "79038734",
   "metadata": {},
   "outputs": [
    {
     "data": {
      "image/png": "[encoded data removed]",
      "text/plain": [
       "<Figure size 360x360 with 1 Axes>"
      ]
     },
     "metadata": {
      "needs_background": "light"
     },
     "output_type": "display_data"
    }
   ],
   "source": [
    "query5 = \"\"\"select count(login_log_id) login, \n",
    "          strftime('%Y',login_time) \n",
    "          from login_table group by strftime('%Y',login_time) \"\"\"\n",
    "\n",
    "l5 = engine.execute(query5).fetchall()\n",
    "year=[]\n",
    "values=[]\n",
    "for i in range(len(l5)):\n",
    "    year.append(l5[i][1])\n",
    "    values.append(l5[i][0])\n",
    "    \n",
    "def percentage(l):\n",
    "    total = l[0][0]+l[1][0]\n",
    "    per = ((l[1][0]-l[0][0])/total)*100\n",
    "    return round(per,2)\n",
    "\n",
    "def addlabels(x,y):\n",
    "    for i in range(len(x)):\n",
    "        plt.text(i, y[i], y[i], ha = 'center')\n",
    "        \n",
    "fig = plt.figure(figsize = (5, 5))\n",
    "plt.bar(year, values, color ='crimson',\n",
    "        width = 0.5,)\n",
    "addlabels(year, values)\n",
    " \n",
    "plt.xlabel(\"year\")\n",
    "plt.ylabel(\"No of logins\")\n",
    "plt.suptitle(\"No of login by year\",fontsize = 'large')\n",
    "plt.title(\"login increased by {} in 2022\".format(percentage(l5)),fontsize = 'medium')\n",
    "plt.axis()\n",
    "plt.show()"
   ]
  },
  {
   "cell_type": "markdown",
   "id": "c3f7d89e",
   "metadata": {},
   "source": [
    "### c. Did our user base grow? "
   ]
  },
  {
   "cell_type": "code",
   "execution_count": 47,
   "id": "42f5e862",
   "metadata": {},
   "outputs": [
    {
     "data": {
      "image/png": "[encoded data removed]",
      "text/plain": [
       "<Figure size 360x360 with 1 Axes>"
      ]
     },
     "metadata": {
      "needs_background": "light"
     },
     "output_type": "display_data"
    }
   ],
   "source": [
    "query6 = \"\"\"select count(distinct(user_id)) user, \n",
    "          strftime('%Y',login_time) \n",
    "          from login_table group by strftime('%Y',login_time) \"\"\"\n",
    "l6 = engine.execute(query6).fetchall()\n",
    "year=[]\n",
    "values=[]\n",
    "for i in range(len(l6)):\n",
    "    year.append(l6[i][1])\n",
    "    values.append(l6[i][0])\n",
    "    \n",
    "def percentage(l):\n",
    "    total = l[0][0]+l[1][0]\n",
    "    per = ((l[1][0]-l[0][0])/total)*100\n",
    "    return round(per,2)\n",
    "\n",
    "def addlabels(x,y):\n",
    "    for i in range(len(x)):\n",
    "        plt.text(i, y[i], y[i], ha = 'center')\n",
    "        \n",
    "fig = plt.figure(figsize = (5, 5))\n",
    "plt.bar(year, values, color ='blue',\n",
    "        width = 0.5,)\n",
    "addlabels(year, values)\n",
    " \n",
    "plt.xlabel(\"year\")\n",
    "plt.ylabel(\"No of user\")\n",
    "plt.suptitle(\"User by year\",fontsize = 'large')\n",
    "plt.title(\"User increased by {} in 2022\".format(percentage(l6)),fontsize = 'medium')\n",
    "plt.axis()\n",
    "plt.show()"
   ]
  },
  {
   "cell_type": "markdown",
   "id": "8183a9ac",
   "metadata": {},
   "source": [
    "## 3. What are our top-selling products in each of the two years? Can you draw some insight from this?"
   ]
  },
  {
   "cell_type": "code",
   "execution_count": 68,
   "id": "551e0451",
   "metadata": {},
   "outputs": [
    {
     "data": {
      "text/html": [
       "<div>\n",
       "<style scoped>\n",
       "    .dataframe tbody tr th:only-of-type {\n",
       "        vertical-align: middle;\n",
       "    }\n",
       "\n",
       "    .dataframe tbody tr th {\n",
       "        vertical-align: top;\n",
       "    }\n",
       "\n",
       "    .dataframe thead th {\n",
       "        text-align: right;\n",
       "    }\n",
       "</style>\n",
       "<table border=\"1\" class=\"dataframe\">\n",
       "  <thead>\n",
       "    <tr style=\"text-align: right;\">\n",
       "      <th></th>\n",
       "      <th>Year</th>\n",
       "      <th>Product_id</th>\n",
       "      <th>Total_quantity_ordered</th>\n",
       "      <th>Accepted_quantity</th>\n",
       "    </tr>\n",
       "  </thead>\n",
       "  <tbody>\n",
       "    <tr>\n",
       "      <th>0</th>\n",
       "      <td>2021</td>\n",
       "      <td>8219</td>\n",
       "      <td>2433</td>\n",
       "      <td>850</td>\n",
       "    </tr>\n",
       "    <tr>\n",
       "      <th>1</th>\n",
       "      <td>2021</td>\n",
       "      <td>10235</td>\n",
       "      <td>1840</td>\n",
       "      <td>1045</td>\n",
       "    </tr>\n",
       "  </tbody>\n",
       "</table>\n",
       "</div>"
      ],
      "text/plain": [
       "   Year  Product_id  Total_quantity_ordered  Accepted_quantity\n",
       "0  2021        8219                    2433                850\n",
       "1  2021       10235                    1840               1045"
      ]
     },
     "execution_count": 68,
     "metadata": {},
     "output_type": "execute_result"
    }
   ],
   "source": [
    "query7 = \"\"\"select strftime('%Y', so.creation_time) year, \n",
    "        si.fk_product_id, \n",
    "        sum(si.ordered_quantity) total_quantity_ordered,\n",
    "        sum(si.order_quantity_accepted) Accepted_quantity\n",
    "        from sales_orders_items si \n",
    "        inner join sales_order so \n",
    "        on so.order_id=si.fk_order_id \n",
    "        where strftime('%Y', so.creation_time) = '2021'\n",
    "        group by fk_product_id\n",
    "        order by total_quantity_ordered desc\n",
    "        limit 2\"\"\"\n",
    "l7 = engine.execute(query7).fetchall()\n",
    "\n",
    "query8 = \"\"\"select strftime('%Y', so.creation_time) year, \n",
    "        si.fk_product_id, \n",
    "        sum(si.ordered_quantity) total_quantity_ordered,\n",
    "        sum(si.order_quantity_accepted) Accepted_quantity\n",
    "        from sales_orders_items si \n",
    "        inner join sales_order so \n",
    "        on so.order_id=si.fk_order_id \n",
    "        where strftime('%Y', so.creation_time) = '2022'\n",
    "        group by fk_product_id\n",
    "        order by total_quantity_ordered desc\n",
    "        limit 2\"\"\"\n",
    "l8 = engine.execute(query8).fetchall()\n",
    "\n",
    "df_2021 = pd.DataFrame(l7,columns=['Year','Product_id','Total_quantity_ordered','Accepted_quantity'])\n",
    "df_2021"
   ]
  },
  {
   "cell_type": "code",
   "execution_count": 69,
   "id": "ce629b6b",
   "metadata": {},
   "outputs": [
    {
     "data": {
      "text/html": [
       "<div>\n",
       "<style scoped>\n",
       "    .dataframe tbody tr th:only-of-type {\n",
       "        vertical-align: middle;\n",
       "    }\n",
       "\n",
       "    .dataframe tbody tr th {\n",
       "        vertical-align: top;\n",
       "    }\n",
       "\n",
       "    .dataframe thead th {\n",
       "        text-align: right;\n",
       "    }\n",
       "</style>\n",
       "<table border=\"1\" class=\"dataframe\">\n",
       "  <thead>\n",
       "    <tr style=\"text-align: right;\">\n",
       "      <th></th>\n",
       "      <th>Year</th>\n",
       "      <th>Product_id</th>\n",
       "      <th>Total_quantity_ordered</th>\n",
       "      <th>Accepted_quantity</th>\n",
       "    </tr>\n",
       "  </thead>\n",
       "  <tbody>\n",
       "    <tr>\n",
       "      <th>0</th>\n",
       "      <td>2022</td>\n",
       "      <td>12547</td>\n",
       "      <td>2018</td>\n",
       "      <td>1572</td>\n",
       "    </tr>\n",
       "    <tr>\n",
       "      <th>1</th>\n",
       "      <td>2022</td>\n",
       "      <td>8444</td>\n",
       "      <td>1945</td>\n",
       "      <td>1139</td>\n",
       "    </tr>\n",
       "  </tbody>\n",
       "</table>\n",
       "</div>"
      ],
      "text/plain": [
       "   Year  Product_id  Total_quantity_ordered  Accepted_quantity\n",
       "0  2022       12547                    2018               1572\n",
       "1  2022        8444                    1945               1139"
      ]
     },
     "execution_count": 69,
     "metadata": {},
     "output_type": "execute_result"
    }
   ],
   "source": [
    "df_2022 = pd.DataFrame(l8,columns=['Year','Product_id','Total_quantity_ordered','Accepted_quantity'])\n",
    "df_2022"
   ]
  },
  {
   "cell_type": "markdown",
   "id": "651cc6e0",
   "metadata": {},
   "source": [
    "## 4.Looking at July 2021 data, what do you think is our biggest problem and how would you recommend fixing it?"
   ]
  },
  {
   "cell_type": "code",
   "execution_count": 86,
   "id": "fc9322b1",
   "metadata": {},
   "outputs": [
    {
     "data": {
      "image/png": "[encoded data removed]",
      "text/plain": [
       "<Figure size 432x288 with 1 Axes>"
      ]
     },
     "metadata": {},
     "output_type": "display_data"
    }
   ],
   "source": [
    "query9 = \"\"\"select sum(si.ordered_quantity),\n",
    "            sum(case when so.sales_order_status = 'Shipped' then si.ordered_quantity end) as order_accepted,\n",
    "            sum(case when so.sales_order_status = 'Rejected' then si.ordered_quantity end) as order_rejected\n",
    "            from sales_order so\n",
    "            inner join sales_orders_items si\n",
    "            on so.order_id=si.fk_order_id \n",
    "            where strftime('%Y', so.creation_time) = '2021' \"\"\"\n",
    "l9 = engine.execute(query9).fetchall()\n",
    "y = np.array([l9[0][1],l9[0][2]])\n",
    "label = [\"Order Accpeted\",\"Order Rejected\"]\n",
    "plt.pie(y, labels = label,autopct='%1.1f%%',shadow=True, startangle=90)\n",
    "plt.suptitle(\"Orders in 2021\",fontsize = 'large')\n",
    "plt.axis('equal')\n",
    "plt.show() \n"
   ]
  }
 ],
 "metadata": {
  "kernelspec": {
   "display_name": "Python 3 (ipykernel)",
   "language": "python",
   "name": "python3"
  },
  "language_info": {
   "codemirror_mode": {
    "name": "ipython",
    "version": 3
   },
   "file_extension": ".py",
   "mimetype": "text/x-python",
   "name": "python",
   "nbconvert_exporter": "python",
   "pygments_lexer": "ipython3",
   "version": "3.9.7"
  }
 },
 "nbformat": 4,
 "nbformat_minor": 5
}
